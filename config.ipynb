{
  "nbformat": 4,
  "nbformat_minor": 0,
  "metadata": {
    "colab": {
      "name": "config.ipynb",
      "provenance": [],
      "collapsed_sections": []
    },
    "kernelspec": {
      "name": "python3",
      "display_name": "Python 3"
    },
    "language_info": {
      "name": "python"
    }
  },
  "cells": [
    {
      "cell_type": "code",
      "execution_count": null,
      "metadata": {
        "id": "ZWGhX0WJx_22"
      },
      "outputs": [],
      "source": [
        "API_KEY = 'PK6MOOV1SL72TZJPXY3W'\n",
        "\n",
        "SECRET_KEY = 'MWpEcLm8r92xI4aYgQe1CqJJauyXfJl6KjtwfRI7'\n",
        "\n",
        "HEADERS = {\n",
        "    'ALP-KEY-ID': API_KEY,\n",
        "    'ALP-SECRET-KEY': SECRET_KEY\n",
        "}\n",
        "\n",
        "BARS_URL = 'https://paper-api.alpaca.markets'\n",
        "\n",
        "SIP_API_KEY = \"AKE7S73YGWIN9RGWJJHJ\"\n",
        "SIP_SECRET_KEY = \"R1d4R7Pbx6PeRQvH6bq3F5K677pgQOJHpuNKiUhl\""
      ]
    }
  ]
}
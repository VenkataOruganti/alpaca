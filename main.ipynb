{
  "nbformat": 4,
  "nbformat_minor": 0,
  "metadata": {
    "colab": {
      "name": "main.ipynb",
      "provenance": [],
      "collapsed_sections": []
    },
    "kernelspec": {
      "name": "python3",
      "display_name": "Python 3"
    },
    "language_info": {
      "name": "python"
    }
  },
  "cells": [
    {
      "cell_type": "code",
      "execution_count": 54,
      "metadata": {
        "colab": {
          "base_uri": "https://localhost:8080/",
          "height": 133
        },
        "id": "d1aCROpmoAkf",
        "outputId": "bf466805-4c79-4027-96cc-04d7956493b3"
      },
      "outputs": [
        {
          "output_type": "error",
          "ename": "SyntaxError",
          "evalue": "ignored",
          "traceback": [
            "\u001b[0;36m  File \u001b[0;32m\"<ipython-input-54-e9c9665a6ffe>\"\u001b[0;36m, line \u001b[0;32m1\u001b[0m\n\u001b[0;31m    pip install import-ipynb\u001b[0m\n\u001b[0m              ^\u001b[0m\n\u001b[0;31mSyntaxError\u001b[0m\u001b[0;31m:\u001b[0m invalid syntax\n"
          ]
        }
      ],
      "source": [
        "import import_ipynb\n",
        "import alpaca_trade_api as tradeapi\n",
        "from alpaca_trade_api.rest import REST, TimeFrame\n",
        "import time\n",
        "import config\n",
        "\n",
        "\n",
        "\n",
        "# API Info for fetching data, portfolio, etc. from Alpaca\n",
        "BASE_URL = \"https://paper-api.alpaca.markets\"\n",
        "#ALPACA_API_KEY = \"AKE7S73YGWIN9RGWJJHJ\"\n",
        "ALPACA_SECRET_KEY = \"R1d4R7Pbx6PeRQvH6bq3F5K677pgQOJHpuNKiUhl\"\n",
        "\n",
        "\n",
        "# Instantiate REST API Connection\n",
        "api = tradeapi.REST(key_id=config.API_KEY, secret_key=ALPACA_SECRET_KEY, \n",
        "                    base_url=BASE_URL, api_version='v2')\n",
        "\n",
        "for i in range(1, 3):\n",
        "  Minute01 = api.get_bars(\"AAPL\", \"1Min\", \"2022-03-22\", \"2022-03-27\", adjustment='raw').df.tail(100)\n",
        "  Minute05 = api.get_bars(\"AAPL\", \"5Min\", \"2022-03-22\", \"2022-03-23\", adjustment='raw').df.tail(100)\n",
        "  Minute15 = api.get_bars(\"AAPL\", \"15Min\", \"2022-03-22\", \"2022-03-23\", adjustment='raw').df.tail(100)\n",
        "\n",
        "  print(Minute01)\n",
        "  print(Minute05)\n",
        "  print(Minute15)\n",
        "  print(\"---------------------------------\")\n",
        "  print(i)\n",
        "\n",
        "  time.sleep(60)"
      ]
    }
  ]
}